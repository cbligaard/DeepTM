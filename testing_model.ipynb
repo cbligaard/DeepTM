{
 "cells": [
  {
   "cell_type": "markdown",
   "metadata": {},
   "source": [
    "# Jupyter notebook file for recreating the main results of this study\n",
    "To run this file you must download all the files in the DeepTM repository including the folder 'saved_models'."
   ]
  },
  {
   "cell_type": "markdown",
   "metadata": {},
   "source": [
    "## Loading packages"
   ]
  },
  {
   "cell_type": "code",
   "execution_count": 1,
   "metadata": {
    "collapsed": true
   },
   "outputs": [],
   "source": [
    "%matplotlib inline\n",
    "import numpy as np\n",
    "import tensorflow as tf\n",
    "import ast\n",
    "\n",
    "# Loading own functions\n",
    "from minibatches import create_mini_batches\n",
    "from plots import plots_performance\n",
    "from conf_matrix import conf_matrix\n",
    "from load_data import data_loading\n",
    "from model import model_setup\n",
    "from top_pred import topology_prediction\n",
    "from confidence_plot import confidence_plot"
   ]
  },
  {
   "cell_type": "markdown",
   "metadata": {},
   "source": [
    "## Loading data, functions and model setup"
   ]
  },
  {
   "cell_type": "code",
   "execution_count": 2,
   "metadata": {
    "collapsed": true
   },
   "outputs": [],
   "source": [
    "# Loading the data\n",
    "train_set, val_set, test_set = data_loading()\n",
    "\n",
    "# Defining model to load \n",
    "load_model = 'saved_models/lr_0.01_crf_True_batch_32_model/'    # Change model to use here\n",
    "\n",
    "if load_model[-1] == '/':\n",
    "    load_model = load_model[:-1]"
   ]
  },
  {
   "cell_type": "code",
   "execution_count": 3,
   "metadata": {
    "collapsed": true
   },
   "outputs": [],
   "source": [
    "# Defining the optimal hyperparameter settings\n",
    "model_info = load_model.split('/')[-1].split('_')\n",
    "\n",
    "learning_rate = float(model_info[1])\n",
    "CRF = ast.literal_eval(model_info[3])\n",
    "batch_size = int(model_info[5])\n",
    "n_hidden = 60"
   ]
  },
  {
   "cell_type": "markdown",
   "metadata": {},
   "source": [
    "## Loading the model and testing"
   ]
  },
  {
   "cell_type": "code",
   "execution_count": 4,
   "metadata": {},
   "outputs": [
    {
     "name": "stderr",
     "output_type": "stream",
     "text": [
      "/Users/Christina/anaconda3/lib/python3.5/site-packages/tensorflow/python/ops/gradients_impl.py:96: UserWarning: Converting sparse IndexedSlices to a dense Tensor of unknown shape. This may consume a large amount of memory.\n",
      "  \"Converting sparse IndexedSlices to a dense Tensor of unknown shape. \"\n"
     ]
    },
    {
     "name": "stdout",
     "output_type": "stream",
     "text": [
      "Started testing.\n",
      "INFO:tensorflow:Restoring parameters from saved_models/lr_0.01_crf_True_batch_32_model/model\n",
      "Done testing.\n"
     ]
    }
   ],
   "source": [
    "# Setting up the model\n",
    "tf.reset_default_graph()\n",
    "X_pl, mask_pl, y_pl, len_pl, y_type_pl, train_op, y_seq, y_seq_conf, y_type_pred, y_type_conf, loss, accuracy_seq, accuracy_type, transition_params = model_setup(learning_rate = learning_rate, n_hidden = n_hidden, CRF = CRF)\n",
    "\n",
    "# Restore and load model\n",
    "with tf.Session() as sess:\n",
    "    try:\n",
    "        \n",
    "        print('Started testing.')\n",
    "        \n",
    "        saver = tf.train.Saver()\n",
    "        saver.restore(sess, load_model + '/model')\n",
    "\n",
    "        \n",
    "        ### Testing the model\n",
    "\n",
    "        # Loading the test set\n",
    "        batches_X, batches_y, batches_mask, batches_y_type, batches_len = create_mini_batches(test_set, batch_size)\n",
    "\n",
    "        # Setting up result lists\n",
    "        true_seq, true_type, pred_seq, pred_type, pred_seq_acc, pred_type_acc, \\\n",
    "        pred_seq_conf, pred_type_conf = [], [], [], [], [], [], [], []\n",
    "\n",
    "        # Looping over minibatches and training on each one\n",
    "        for batch in range(len(batches_X)):\n",
    "\n",
    "            # Make fetches\n",
    "            fetches_test = [y_seq, y_type_pred, accuracy_seq, accuracy_type, \\\n",
    "                            y_seq_conf, y_type_conf, transition_params] \n",
    "            \n",
    "            # Set up feed dict (to feed the network with test data)\n",
    "            feed_dict_test = {X_pl: batches_X[batch], mask_pl: batches_mask[batch], \\\n",
    "                              y_pl: batches_y[batch], y_type_pl: batches_y_type[batch], \\\n",
    "                              len_pl: batches_len[batch]}\n",
    "\n",
    "            # Run the model and append the results to lists\n",
    "            res_test = sess.run(fetches = fetches_test, feed_dict = feed_dict_test)\n",
    "            \n",
    "            pred_seq.extend([seq[batches_mask[batch][i].astype(bool)] for i, seq in enumerate(res_test[0])]) \n",
    "            pred_type.extend(res_test[1])\n",
    "            pred_seq_acc.append(res_test[2])\n",
    "            pred_type_acc.append(res_test[3])\n",
    "            pred_seq_conf.extend(res_test[4])\n",
    "            pred_type_conf.extend(res_test[5])\n",
    "            \n",
    "            true_seq.extend([batches_y[batch][j][batches_mask[batch][j].astype(bool)] for j in range(len(batches_y[batch]))])          \n",
    "            true_type.extend(batches_y_type[batch])    \n",
    "    \n",
    "    except KeyboardInterrupt:\n",
    "        pass\n",
    "            \n",
    "print('Done testing.')"
   ]
  },
  {
   "cell_type": "markdown",
   "metadata": {},
   "source": [
    "# Results\n",
    "## Accuracies for predictions"
   ]
  },
  {
   "cell_type": "code",
   "execution_count": 5,
   "metadata": {},
   "outputs": [
    {
     "name": "stdout",
     "output_type": "stream",
     "text": [
      "The average accuracy for prediction of amino acid locations: 93.88 %\n",
      "The average accuracy for prediction of type: 96.57 %\n"
     ]
    }
   ],
   "source": [
    "print('The average accuracy for prediction of amino acid locations: {0:.2f} %'.format(np.mean(pred_seq_acc) * 100))\n",
    "print('The average accuracy for prediction of type: {0:.2f} %'.format(np.mean(pred_type_acc) * 100))"
   ]
  },
  {
   "cell_type": "markdown",
   "metadata": {},
   "source": [
    "## Confusion matrices for predictions 1 + 2\n",
    "\n",
    "The actual class is in the rows and predicted class is in the columns."
   ]
  },
  {
   "cell_type": "code",
   "execution_count": 6,
   "metadata": {},
   "outputs": [
    {
     "name": "stdout",
     "output_type": "stream",
     "text": [
      "Confusion matrix for classification of amino acid location\n",
      "           In->Out    Out->In    SP         Inside     Outside   \n",
      "In->Out    1818       636        94         915        1602      \n",
      "Out->In    874        3672       77         929        2375      \n",
      "SP         9          0          12673      493        697       \n",
      "Inside     431        254        205        385495     14676     \n",
      "Outside    559        558        303        8950       206515    \n",
      "\n",
      "Confusion matrix for classification of amino acid location in percent\n",
      "           In->Out    Out->In    SP         Inside     Outside   \n",
      "In->Out    35.89      12.56      1.86       18.07      31.63     \n",
      "Out->In    11.03      46.32      0.97       11.72      29.96     \n",
      "SP         0.06       0.00       91.36      3.55       5.02      \n",
      "Inside     0.11       0.06       0.05       96.12      3.66      \n",
      "Outside    0.26       0.26       0.14       4.13       95.22     \n",
      "\n",
      "Confusion matrix for classification of proteins\n",
      "           TM         SP+TM      SP+Glob    Glob      \n",
      "TM         47         7          4          4         \n",
      "SP+TM      4          130        6          3         \n",
      "SP+Glob    0          1          423        10        \n",
      "Glob       0          0          7          699       \n",
      "\n",
      "Confusion matrix for classification of proteins in percent\n",
      "           TM         SP+TM      SP+Glob    Glob      \n",
      "TM         75.81      11.29      6.45       6.45      \n",
      "SP+TM      2.80       90.91      4.20       2.10      \n",
      "SP+Glob    0.00       0.23       97.47      2.30      \n",
      "Glob       0.00       0.00       0.99       99.01     \n",
      "\n"
     ]
    }
   ],
   "source": [
    "conf_matrix(true_seq, pred_seq, true_type, pred_type)"
   ]
  },
  {
   "cell_type": "markdown",
   "metadata": {},
   "source": [
    "## Confidence for topology prediction"
   ]
  },
  {
   "cell_type": "code",
   "execution_count": 7,
   "metadata": {},
   "outputs": [
    {
     "name": "stdout",
     "output_type": "stream",
     "text": [
      "Topology prediction results (in percent):\n",
      "           TM         SP+TM      SP+Glob    Glob      \n",
      "Correct    6.45       61.54      97.47      99.01     \n",
      "Wrong top  69.35      29.37      -          -         \n"
     ]
    }
   ],
   "source": [
    "topology_prediction(true_seq, pred_seq, true_type, pred_type) "
   ]
  },
  {
   "cell_type": "markdown",
   "metadata": {},
   "source": [
    "## For models with CRF, look at transition matrix"
   ]
  },
  {
   "cell_type": "code",
   "execution_count": 8,
   "metadata": {},
   "outputs": [
    {
     "name": "stdout",
     "output_type": "stream",
     "text": [
      "Transition matrix:\n",
      "[[  2.59557295 -26.45238304 -22.12199783 -21.08243179   4.16291428]\n",
      " [-24.64021301   2.53751945 -19.53077888   4.47754431  -5.35449886]\n",
      " [-23.29758072 -30.41456032   2.20561671 -10.6401329   -2.37029099]\n",
      " [ -8.01643944 -34.59097672 -30.40345955   2.31676817 -27.09503365]\n",
      " [-32.9541626   -9.1465826  -25.92239952 -27.46617317   1.966699  ]]\n"
     ]
    }
   ],
   "source": [
    "if CRF == True:\n",
    "    print('Transition matrix:')\n",
    "    print(res_test[6])"
   ]
  },
  {
   "cell_type": "markdown",
   "metadata": {
    "collapsed": true
   },
   "source": [
    "## Visualization of the prediction for a single protein"
   ]
  },
  {
   "cell_type": "code",
   "execution_count": 11,
   "metadata": {
    "scrolled": false
   },
   "outputs": [
    {
     "name": "stdout",
     "output_type": "stream",
     "text": [
      "The predicted type of this protein is \"Signal Peptide + Transmembrane\". The confidence for the type prediction is 89.51 %.\n",
      "The true type is \"Signal Peptide + Transmembrane\".\n"
     ]
    },
    {
     "data": {
      "image/png": "[encoded data removed]",
      "text/plain": [
       "<matplotlib.figure.Figure at 0x1cb12bf28>"
      ]
     },
     "metadata": {},
     "output_type": "display_data"
    }
   ],
   "source": [
    "# Get a single protein (we just made it for a random one here)\n",
    "i = 924 # Change index for another example\n",
    "\n",
    "confidence_plot(pred_seq[i], true_seq[i], pred_seq_conf[i], pred_type[i], true_type[i], pred_type_conf[i], len(true_seq[i]))"
   ]
  }
 ],
 "metadata": {
  "kernelspec": {
   "display_name": "Python 3",
   "language": "python",
   "name": "python3"
  },
  "language_info": {
   "codemirror_mode": {
    "name": "ipython",
    "version": 3
   },
   "file_extension": ".py",
   "mimetype": "text/x-python",
   "name": "python",
   "nbconvert_exporter": "python",
   "pygments_lexer": "ipython3",
   "version": "3.5.0"
  }
 },
 "nbformat": 4,
 "nbformat_minor": 2
}
